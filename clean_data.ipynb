{
 "cells": [
  {
   "cell_type": "code",
   "execution_count": 1,
   "id": "6fff7637",
   "metadata": {},
   "outputs": [],
   "source": [
    "from PIL import Image\n",
    "import os\n",
    "\n",
    "# Carpeta base\n",
    "folders = [f\"file_{i}\" for i in range(1, 8)]\n",
    "\n",
    "# Tamaño máximo permitido en KB\n",
    "max_size_kb = 100\n",
    "\n",
    "for folder in folders:\n",
    "    for filename in os.listdir(folder):\n",
    "        if filename.lower().endswith(\".png\"):\n",
    "            path = os.path.join(folder, filename)\n",
    "\n",
    "            # Abrimos y convertimos en modo P para mejor compresión\n",
    "            with Image.open(path) as img:\n",
    "                img = img.convert(\"RGB\")  # PNG no se comprime tan bien como JPG\n",
    "\n",
    "                # Ruta temporal nueva como JPG\n",
    "                new_path = os.path.join(folder, filename.replace(\".png\", \".jpg\"))\n",
    "\n",
    "                # Compresión progresiva para que no supere 100KB\n",
    "                for quality in range(95, 10, -5):\n",
    "                    img.save(new_path, \"JPEG\", optimize=True, quality=quality)\n",
    "                    size_kb = os.path.getsize(new_path) / 1024\n",
    "\n",
    "                    if size_kb <= max_size_kb:\n",
    "                        break\n",
    "\n",
    "                # Borramos el PNG original y renombramos el JPG como .png (para no cambiar código)\n",
    "                os.remove(path)\n",
    "                os.rename(new_path, path)  # Sí, es trampa. Pero Tableau ni se entera.\n"
   ]
  },
  {
   "cell_type": "code",
   "execution_count": null,
   "id": "f39f9bd1",
   "metadata": {},
   "outputs": [],
   "source": []
  }
 ],
 "metadata": {
  "kernelspec": {
   "display_name": "base",
   "language": "python",
   "name": "python3"
  },
  "language_info": {
   "codemirror_mode": {
    "name": "ipython",
    "version": 3
   },
   "file_extension": ".py",
   "mimetype": "text/x-python",
   "name": "python",
   "nbconvert_exporter": "python",
   "pygments_lexer": "ipython3",
   "version": "3.10.13"
  }
 },
 "nbformat": 4,
 "nbformat_minor": 5
}
