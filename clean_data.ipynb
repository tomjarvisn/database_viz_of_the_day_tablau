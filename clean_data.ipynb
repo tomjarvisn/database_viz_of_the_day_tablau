{
 "cells": [
  {
   "cell_type": "code",
   "execution_count": 5,
   "id": "3e212a32",
   "metadata": {},
   "outputs": [
    {
     "data": {
      "application/vnd.microsoft.datawrangler.viewer.v0+json": {
       "columns": [
        {
         "name": "index",
         "rawType": "int64",
         "type": "integer"
        },
        {
         "name": "viz_url",
         "rawType": "object",
         "type": "string"
        },
        {
         "name": "png_path",
         "rawType": "object",
         "type": "string"
        },
        {
         "name": "filename",
         "rawType": "object",
         "type": "string"
        },
        {
         "name": "folder_index",
         "rawType": "object",
         "type": "string"
        },
        {
         "name": "github_url",
         "rawType": "object",
         "type": "string"
        }
       ],
       "ref": "bf4bbda9-6d30-404c-a41a-123bbb8c5d56",
       "rows": [
        [
         "0",
         "https://public.tableau.com/static/images/_4/_4100/Dashboard2/4_3.png",
         "viz_png\\viz_0__4__4100.png",
         "viz_0__4__4100.png",
         "file_1/viz_0__4__4100.png",
         "https://raw.githubusercontent.com/tomjarvisn/database_viz_of_the_day_tablau/refs/heads/main/file_1/viz_0__4__4100.png"
        ],
        [
         "1",
         "https://public.tableau.com/static/images/18/180315_class-culture_dotplots/lit-genre/4_3.png",
         "viz_png\\viz_1_18_180315_class-culture_dotplots.png",
         "viz_1_18_180315_class-culture_dotplots.png",
         "file_1/viz_1_18_180315_class-culture_dotplots.png",
         "https://raw.githubusercontent.com/tomjarvisn/database_viz_of_the_day_tablau/refs/heads/main/file_1/viz_1_18_180315_class-culture_dotplots.png"
        ],
        [
         "2",
         "https://public.tableau.com/static/images/Na/NanosNational/NATIONAL/4_3.png",
         "viz_png\\viz_2_Na_NanosNational.png",
         "viz_2_Na_NanosNational.png",
         "file_1/viz_2_Na_NanosNational.png",
         "https://raw.githubusercontent.com/tomjarvisn/database_viz_of_the_day_tablau/refs/heads/main/file_1/viz_2_Na_NanosNational.png"
        ],
        [
         "3",
         "https://public.tableau.com/static/images/Vi/VisualVocabulary/VisualVocabulary/4_3.png",
         "viz_png\\viz_3_Vi_VisualVocabulary.png",
         "viz_3_Vi_VisualVocabulary.png",
         "file_1/viz_3_Vi_VisualVocabulary.png",
         "https://raw.githubusercontent.com/tomjarvisn/database_viz_of_the_day_tablau/refs/heads/main/file_1/viz_3_Vi_VisualVocabulary.png"
        ],
        [
         "4",
         "https://public.tableau.com/static/images/To/TopPlacestoRetire/Dashboard1/4_3.png",
         "viz_png\\viz_4_To_TopPlacestoRetire.png",
         "viz_4_To_TopPlacestoRetire.png",
         "file_1/viz_4_To_TopPlacestoRetire.png",
         "https://raw.githubusercontent.com/tomjarvisn/database_viz_of_the_day_tablau/refs/heads/main/file_1/viz_4_To_TopPlacestoRetire.png"
        ],
        [
         "5",
         "https://public.tableau.com/static/images/Ge/GenderedNameChanges/GenderedNameChanges/4_3.png",
         "viz_png\\viz_5_Ge_GenderedNameChanges.png",
         "viz_5_Ge_GenderedNameChanges.png",
         "file_1/viz_5_Ge_GenderedNameChanges.png",
         "https://raw.githubusercontent.com/tomjarvisn/database_viz_of_the_day_tablau/refs/heads/main/file_1/viz_5_Ge_GenderedNameChanges.png"
        ],
        [
         "6",
         "https://public.tableau.com/static/images/Ar/Artificial_Intelligence/Impact_of_AI_and_Analytics/4_3.png",
         "viz_png\\viz_6_Ar_Artificial_Intelligence.png",
         "viz_6_Ar_Artificial_Intelligence.png",
         "file_1/viz_6_Ar_Artificial_Intelligence.png",
         "https://raw.githubusercontent.com/tomjarvisn/database_viz_of_the_day_tablau/refs/heads/main/file_1/viz_6_Ar_Artificial_Intelligence.png"
        ],
        [
         "7",
         "https://public.tableau.com/static/images/hs/hsc2016/HRvsICSEA/4_3.png",
         "viz_png\\viz_7_hs_hsc2016.png",
         "viz_7_hs_hsc2016.png",
         "file_1/viz_7_hs_hsc2016.png",
         "https://raw.githubusercontent.com/tomjarvisn/database_viz_of_the_day_tablau/refs/heads/main/file_1/viz_7_hs_hsc2016.png"
        ],
        [
         "8",
         "https://public.tableau.com/static/images/Th/TheHistoryoftheNFL/TheHistoryoftheNFL/4_3.png",
         "viz_png\\viz_8_Th_TheHistoryoftheNFL.png",
         "viz_8_Th_TheHistoryoftheNFL.png",
         "file_1/viz_8_Th_TheHistoryoftheNFL.png",
         "https://raw.githubusercontent.com/tomjarvisn/database_viz_of_the_day_tablau/refs/heads/main/file_1/viz_8_Th_TheHistoryoftheNFL.png"
        ],
        [
         "9",
         "https://public.tableau.com/static/images/Ap/Apportionment_16116063135030/Apportionment/4_3.png",
         "viz_png\\viz_9_Ap_Apportionment_16116063135030.png",
         "viz_9_Ap_Apportionment_16116063135030.png",
         "file_1/viz_9_Ap_Apportionment_16116063135030.png",
         "https://raw.githubusercontent.com/tomjarvisn/database_viz_of_the_day_tablau/refs/heads/main/file_1/viz_9_Ap_Apportionment_16116063135030.png"
        ],
        [
         "10",
         "https://public.tableau.com/static/images/Be/BeatlesAnalysis/BeatlesAnalysis/4_3.png",
         "viz_png\\viz_10_Be_BeatlesAnalysis.png",
         "viz_10_Be_BeatlesAnalysis.png",
         "file_1/viz_10_Be_BeatlesAnalysis.png",
         "https://raw.githubusercontent.com/tomjarvisn/database_viz_of_the_day_tablau/refs/heads/main/file_1/viz_10_Be_BeatlesAnalysis.png"
        ],
        [
         "11",
         "https://public.tableau.com/static/images/Mo/MostCommonBirthdays/MostCommonBirthdays/4_3.png",
         "viz_png\\viz_11_Mo_MostCommonBirthdays.png",
         "viz_11_Mo_MostCommonBirthdays.png",
         "file_1/viz_11_Mo_MostCommonBirthdays.png",
         "https://raw.githubusercontent.com/tomjarvisn/database_viz_of_the_day_tablau/refs/heads/main/file_1/viz_11_Mo_MostCommonBirthdays.png"
        ],
        [
         "12",
         "https://public.tableau.com/static/images/Ca/Case-Shiller-YOY/YOYChange/4_3.png",
         "viz_png\\viz_12_Ca_Case-Shiller-YOY.png",
         "viz_12_Ca_Case-Shiller-YOY.png",
         "file_1/viz_12_Ca_Case-Shiller-YOY.png",
         "https://raw.githubusercontent.com/tomjarvisn/database_viz_of_the_day_tablau/refs/heads/main/file_1/viz_12_Ca_Case-Shiller-YOY.png"
        ],
        [
         "13",
         "https://public.tableau.com/static/images/GD/GDP-NUTS3-2014/Dashboard6/4_3.png",
         "viz_png\\viz_13_GD_GDP-NUTS3-2014.png",
         "viz_13_GD_GDP-NUTS3-2014.png",
         "file_1/viz_13_GD_GDP-NUTS3-2014.png",
         "https://raw.githubusercontent.com/tomjarvisn/database_viz_of_the_day_tablau/refs/heads/main/file_1/viz_13_GD_GDP-NUTS3-2014.png"
        ],
        [
         "14",
         "https://public.tableau.com/static/images/Au/AutonomousVehicles/AV/4_3.png",
         "viz_png\\viz_14_Au_AutonomousVehicles.png",
         "viz_14_Au_AutonomousVehicles.png",
         "file_1/viz_14_Au_AutonomousVehicles.png",
         "https://raw.githubusercontent.com/tomjarvisn/database_viz_of_the_day_tablau/refs/heads/main/file_1/viz_14_Au_AutonomousVehicles.png"
        ],
        [
         "15",
         "https://public.tableau.com/static/images/CO/COVID-19attheWhiteHouse-ContactTracking/Home/4_3.png",
         "viz_png\\viz_15_CO_COVID-19attheWhiteHouse-ContactTracking.png",
         "viz_15_CO_COVID-19attheWhiteHouse-ContactTracking.png",
         "file_1/viz_15_CO_COVID-19attheWhiteHouse-ContactTracking.png",
         "https://raw.githubusercontent.com/tomjarvisn/database_viz_of_the_day_tablau/refs/heads/main/file_1/viz_15_CO_COVID-19attheWhiteHouse-ContactTracking.png"
        ],
        [
         "16",
         "https://public.tableau.com/static/images/Th/TheMoneyFight-MayweathervsMcGregor/TheMoneyFightMayweathervsMcGregor/4_3.png",
         "viz_png\\viz_16_Th_TheMoneyFight-MayweathervsMcGregor.png",
         "viz_16_Th_TheMoneyFight-MayweathervsMcGregor.png",
         "file_1/viz_16_Th_TheMoneyFight-MayweathervsMcGregor.png",
         "https://raw.githubusercontent.com/tomjarvisn/database_viz_of_the_day_tablau/refs/heads/main/file_1/viz_16_Th_TheMoneyFight-MayweathervsMcGregor.png"
        ],
        [
         "17",
         "https://public.tableau.com/static/images/Fo/ForeignFightersInIraqSyria/ForeignFightersIraqSyria/4_3.png",
         "viz_png\\viz_17_Fo_ForeignFightersInIraqSyria.png",
         "viz_17_Fo_ForeignFightersInIraqSyria.png",
         "file_1/viz_17_Fo_ForeignFightersInIraqSyria.png",
         "https://raw.githubusercontent.com/tomjarvisn/database_viz_of_the_day_tablau/refs/heads/main/file_1/viz_17_Fo_ForeignFightersInIraqSyria.png"
        ],
        [
         "18",
         "https://public.tableau.com/static/images/Hi/HigherEdBudgetSqueeze/HigherEdSpending/4_3.png",
         "viz_png\\viz_18_Hi_HigherEdBudgetSqueeze.png",
         "viz_18_Hi_HigherEdBudgetSqueeze.png",
         "file_1/viz_18_Hi_HigherEdBudgetSqueeze.png",
         "https://raw.githubusercontent.com/tomjarvisn/database_viz_of_the_day_tablau/refs/heads/main/file_1/viz_18_Hi_HigherEdBudgetSqueeze.png"
        ],
        [
         "19",
         "https://public.tableau.com/static/images/SG/SGHospitalBillsJuly8/HospitalBillSizeJuly12/4_3.png",
         "viz_png\\viz_19_SG_SGHospitalBillsJuly8.png",
         "viz_19_SG_SGHospitalBillsJuly8.png",
         "file_1/viz_19_SG_SGHospitalBillsJuly8.png",
         "https://raw.githubusercontent.com/tomjarvisn/database_viz_of_the_day_tablau/refs/heads/main/file_1/viz_19_SG_SGHospitalBillsJuly8.png"
        ],
        [
         "20",
         "https://public.tableau.com/static/images/Co/CostofLivingintheWorld/Dashboard12/4_3.png",
         "viz_png\\viz_20_Co_CostofLivingintheWorld.png",
         "viz_20_Co_CostofLivingintheWorld.png",
         "file_1/viz_20_Co_CostofLivingintheWorld.png",
         "https://raw.githubusercontent.com/tomjarvisn/database_viz_of_the_day_tablau/refs/heads/main/file_1/viz_20_Co_CostofLivingintheWorld.png"
        ],
        [
         "21",
         "https://public.tableau.com/static/images/Ra/RacetoAlaska/RacetoAlaska/4_3.png",
         "viz_png\\viz_21_Ra_RacetoAlaska.png",
         "viz_21_Ra_RacetoAlaska.png",
         "file_1/viz_21_Ra_RacetoAlaska.png",
         "https://raw.githubusercontent.com/tomjarvisn/database_viz_of_the_day_tablau/refs/heads/main/file_1/viz_21_Ra_RacetoAlaska.png"
        ],
        [
         "22",
         "https://public.tableau.com/static/images/Ra/RankingFIFAOK_0/Dashboard1/4_3.png",
         "viz_png\\viz_22_Ra_RankingFIFAOK_0.png",
         "viz_22_Ra_RankingFIFAOK_0.png",
         "file_1/viz_22_Ra_RankingFIFAOK_0.png",
         "https://raw.githubusercontent.com/tomjarvisn/database_viz_of_the_day_tablau/refs/heads/main/file_1/viz_22_Ra_RankingFIFAOK_0.png"
        ],
        [
         "23",
         "https://public.tableau.com/static/images/re/real-rio-olympic-tally/Population/4_3.png",
         "viz_png\\viz_23_re_real-rio-olympic-tally.png",
         "viz_23_re_real-rio-olympic-tally.png",
         "file_1/viz_23_re_real-rio-olympic-tally.png",
         "https://raw.githubusercontent.com/tomjarvisn/database_viz_of_the_day_tablau/refs/heads/main/file_1/viz_23_re_real-rio-olympic-tally.png"
        ],
        [
         "24",
         "https://public.tableau.com/static/images/Ne/NewspapersByCountyUnitedStates/DesertandOne/4_3.png",
         "viz_png\\viz_24_Ne_NewspapersByCountyUnitedStates.png",
         "viz_24_Ne_NewspapersByCountyUnitedStates.png",
         "file_1/viz_24_Ne_NewspapersByCountyUnitedStates.png",
         "https://raw.githubusercontent.com/tomjarvisn/database_viz_of_the_day_tablau/refs/heads/main/file_1/viz_24_Ne_NewspapersByCountyUnitedStates.png"
        ],
        [
         "25",
         "https://public.tableau.com/static/images/Ma/MapaCongresoColombia2018/Departamentos/4_3.png",
         "viz_png\\viz_25_Ma_MapaCongresoColombia2018.png",
         "viz_25_Ma_MapaCongresoColombia2018.png",
         "file_1/viz_25_Ma_MapaCongresoColombia2018.png",
         "https://raw.githubusercontent.com/tomjarvisn/database_viz_of_the_day_tablau/refs/heads/main/file_1/viz_25_Ma_MapaCongresoColombia2018.png"
        ],
        [
         "26",
         "https://public.tableau.com/static/images/Co/CollegeCosts-Subsidies/CollegeCostsSubsidies/4_3.png",
         "viz_png\\viz_26_Co_CollegeCosts-Subsidies.png",
         "viz_26_Co_CollegeCosts-Subsidies.png",
         "file_1/viz_26_Co_CollegeCosts-Subsidies.png",
         "https://raw.githubusercontent.com/tomjarvisn/database_viz_of_the_day_tablau/refs/heads/main/file_1/viz_26_Co_CollegeCosts-Subsidies.png"
        ],
        [
         "27",
         "https://public.tableau.com/static/images/Sw/Swissleaks1/final/4_3.png",
         "viz_png\\viz_27_Sw_Swissleaks1.png",
         "viz_27_Sw_Swissleaks1.png",
         "file_1/viz_27_Sw_Swissleaks1.png",
         "https://raw.githubusercontent.com/tomjarvisn/database_viz_of_the_day_tablau/refs/heads/main/file_1/viz_27_Sw_Swissleaks1.png"
        ],
        [
         "28",
         "https://public.tableau.com/static/images/Re/RecoveryWatch/RecoveryWatch/4_3.png",
         "viz_png\\viz_28_Re_RecoveryWatch.png",
         "viz_28_Re_RecoveryWatch.png",
         "file_1/viz_28_Re_RecoveryWatch.png",
         "https://raw.githubusercontent.com/tomjarvisn/database_viz_of_the_day_tablau/refs/heads/main/file_1/viz_28_Re_RecoveryWatch.png"
        ],
        [
         "29",
         "https://public.tableau.com/static/images/Th/TheSpellsofHarryPotter/HarryPotterSpells/4_3.png",
         "viz_png\\viz_29_Th_TheSpellsofHarryPotter.png",
         "viz_29_Th_TheSpellsofHarryPotter.png",
         "file_1/viz_29_Th_TheSpellsofHarryPotter.png",
         "https://raw.githubusercontent.com/tomjarvisn/database_viz_of_the_day_tablau/refs/heads/main/file_1/viz_29_Th_TheSpellsofHarryPotter.png"
        ],
        [
         "30",
         "https://public.tableau.com/static/images/Ti/Titanic_265/Titanic/4_3.png",
         "viz_png\\viz_30_Ti_Titanic_265.png",
         "viz_30_Ti_Titanic_265.png",
         "file_1/viz_30_Ti_Titanic_265.png",
         "https://raw.githubusercontent.com/tomjarvisn/database_viz_of_the_day_tablau/refs/heads/main/file_1/viz_30_Ti_Titanic_265.png"
        ],
        [
         "31",
         "https://public.tableau.com/static/images/Ga/GazpromsGripFinal/GG-final/4_3.png",
         "viz_png\\viz_31_Ga_GazpromsGripFinal.png",
         "viz_31_Ga_GazpromsGripFinal.png",
         "file_1/viz_31_Ga_GazpromsGripFinal.png",
         "https://raw.githubusercontent.com/tomjarvisn/database_viz_of_the_day_tablau/refs/heads/main/file_1/viz_31_Ga_GazpromsGripFinal.png"
        ],
        [
         "32",
         "https://public.tableau.com/static/images/vi/virusmundo/Story1/4_3.png",
         "viz_png\\viz_32_vi_virusmundo.png",
         "viz_32_vi_virusmundo.png",
         "file_1/viz_32_vi_virusmundo.png",
         "https://raw.githubusercontent.com/tomjarvisn/database_viz_of_the_day_tablau/refs/heads/main/file_1/viz_32_vi_virusmundo.png"
        ],
        [
         "33",
         "https://public.tableau.com/static/images/Sh/ShippingIndustryExample_10_0/ShippingKPI/4_3.png",
         "viz_png\\viz_33_Sh_ShippingIndustryExample_10_0.png",
         "viz_33_Sh_ShippingIndustryExample_10_0.png",
         "file_1/viz_33_Sh_ShippingIndustryExample_10_0.png",
         "https://raw.githubusercontent.com/tomjarvisn/database_viz_of_the_day_tablau/refs/heads/main/file_1/viz_33_Sh_ShippingIndustryExample_10_0.png"
        ],
        [
         "34",
         "https://public.tableau.com/static/images/Ze/Zeitplan_Paralympics_2018_0/Dashboard1/4_3.png",
         "viz_png\\viz_34_Ze_Zeitplan_Paralympics_2018_0.png",
         "viz_34_Ze_Zeitplan_Paralympics_2018_0.png",
         "file_1/viz_34_Ze_Zeitplan_Paralympics_2018_0.png",
         "https://raw.githubusercontent.com/tomjarvisn/database_viz_of_the_day_tablau/refs/heads/main/file_1/viz_34_Ze_Zeitplan_Paralympics_2018_0.png"
        ],
        [
         "35",
         "https://public.tableau.com/static/images/Th/TheTableauBookofCalcs/TitlePage/4_3.png",
         "viz_png\\viz_35_Th_TheTableauBookofCalcs.png",
         "viz_35_Th_TheTableauBookofCalcs.png",
         "file_1/viz_35_Th_TheTableauBookofCalcs.png",
         "https://raw.githubusercontent.com/tomjarvisn/database_viz_of_the_day_tablau/refs/heads/main/file_1/viz_35_Th_TheTableauBookofCalcs.png"
        ],
        [
         "36",
         "https://public.tableau.com/static/images/US/USRecordedMusicRevenuebyFormat-1973to2018/USRecordedMusicRevenuebyFormat-1973to2018/4_3.png",
         "viz_png\\viz_36_US_USRecordedMusicRevenuebyFormat-1973to2018.png",
         "viz_36_US_USRecordedMusicRevenuebyFormat-1973to2018.png",
         "file_1/viz_36_US_USRecordedMusicRevenuebyFormat-1973to2018.png",
         "https://raw.githubusercontent.com/tomjarvisn/database_viz_of_the_day_tablau/refs/heads/main/file_1/viz_36_US_USRecordedMusicRevenuebyFormat-1973to2018.png"
        ],
        [
         "37",
         "https://public.tableau.com/static/images/Ta/TableauFoundationLivingReport/Ataglance/4_3.png",
         "viz_png\\viz_37_Ta_TableauFoundationLivingReport.png",
         "viz_37_Ta_TableauFoundationLivingReport.png",
         "file_1/viz_37_Ta_TableauFoundationLivingReport.png",
         "https://raw.githubusercontent.com/tomjarvisn/database_viz_of_the_day_tablau/refs/heads/main/file_1/viz_37_Ta_TableauFoundationLivingReport.png"
        ],
        [
         "38",
         "https://public.tableau.com/static/images/Ba/Banksy/Home/4_3.png",
         "viz_png\\viz_38_Ba_Banksy.png",
         "viz_38_Ba_Banksy.png",
         "file_1/viz_38_Ba_Banksy.png",
         "https://raw.githubusercontent.com/tomjarvisn/database_viz_of_the_day_tablau/refs/heads/main/file_1/viz_38_Ba_Banksy.png"
        ],
        [
         "39",
         "https://public.tableau.com/static/images/gl/globaltrends2014_refugees/RefugeesinAustralia/4_3.png",
         "viz_png\\viz_39_gl_globaltrends2014_refugees.png",
         "viz_39_gl_globaltrends2014_refugees.png",
         "file_1/viz_39_gl_globaltrends2014_refugees.png",
         "https://raw.githubusercontent.com/tomjarvisn/database_viz_of_the_day_tablau/refs/heads/main/file_1/viz_39_gl_globaltrends2014_refugees.png"
        ],
        [
         "40",
         "https://public.tableau.com/static/images/Dr/Dreamforce2019WaterBottleRefills/EnvironmentalImpact/4_3.png",
         "viz_png\\viz_40_Dr_Dreamforce2019WaterBottleRefills.png",
         "viz_40_Dr_Dreamforce2019WaterBottleRefills.png",
         "file_1/viz_40_Dr_Dreamforce2019WaterBottleRefills.png",
         "https://raw.githubusercontent.com/tomjarvisn/database_viz_of_the_day_tablau/refs/heads/main/file_1/viz_40_Dr_Dreamforce2019WaterBottleRefills.png"
        ],
        [
         "41",
         "https://public.tableau.com/static/images/Fi/FilmGenrePopularity-1910-2018/GenreRelativePopularity/4_3.png",
         "viz_png\\viz_41_Fi_FilmGenrePopularity-1910-2018.png",
         "viz_41_Fi_FilmGenrePopularity-1910-2018.png",
         "file_1/viz_41_Fi_FilmGenrePopularity-1910-2018.png",
         "https://raw.githubusercontent.com/tomjarvisn/database_viz_of_the_day_tablau/refs/heads/main/file_1/viz_41_Fi_FilmGenrePopularity-1910-2018.png"
        ],
        [
         "42",
         "https://public.tableau.com/static/images/OP/OPALCOFinancial/BudgetVariance_1/4_3.png",
         "viz_png\\viz_42_OP_OPALCOFinancial.png",
         "viz_42_OP_OPALCOFinancial.png",
         "file_1/viz_42_OP_OPALCOFinancial.png",
         "https://raw.githubusercontent.com/tomjarvisn/database_viz_of_the_day_tablau/refs/heads/main/file_1/viz_42_OP_OPALCOFinancial.png"
        ],
        [
         "43",
         "https://public.tableau.com/static/images/Ca/CarColorEvolutionNorthAmerica/ColorRankOverTime/4_3.png",
         "viz_png\\viz_43_Ca_CarColorEvolutionNorthAmerica.png",
         "viz_43_Ca_CarColorEvolutionNorthAmerica.png",
         "file_1/viz_43_Ca_CarColorEvolutionNorthAmerica.png",
         "https://raw.githubusercontent.com/tomjarvisn/database_viz_of_the_day_tablau/refs/heads/main/file_1/viz_43_Ca_CarColorEvolutionNorthAmerica.png"
        ],
        [
         "44",
         "https://public.tableau.com/static/images/Ma/MakeoverMonday-Week44-BankHolidays/BankHolidays/4_3.png",
         "viz_png\\viz_44_Ma_MakeoverMonday-Week44-BankHolidays.png",
         "viz_44_Ma_MakeoverMonday-Week44-BankHolidays.png",
         "file_1/viz_44_Ma_MakeoverMonday-Week44-BankHolidays.png",
         "https://raw.githubusercontent.com/tomjarvisn/database_viz_of_the_day_tablau/refs/heads/main/file_1/viz_44_Ma_MakeoverMonday-Week44-BankHolidays.png"
        ],
        [
         "45",
         "https://public.tableau.com/static/images/Sm/SmartphoneCostBreakdown/Overview/4_3.png",
         "viz_png\\viz_45_Sm_SmartphoneCostBreakdown.png",
         "viz_45_Sm_SmartphoneCostBreakdown.png",
         "file_1/viz_45_Sm_SmartphoneCostBreakdown.png",
         "https://raw.githubusercontent.com/tomjarvisn/database_viz_of_the_day_tablau/refs/heads/main/file_1/viz_45_Sm_SmartphoneCostBreakdown.png"
        ],
        [
         "46",
         "https://public.tableau.com/static/images/US/USNationalParksVisitationTrends/Dashboard/4_3.png",
         "viz_png\\viz_46_US_USNationalParksVisitationTrends.png",
         "viz_46_US_USNationalParksVisitationTrends.png",
         "file_1/viz_46_US_USNationalParksVisitationTrends.png",
         "https://raw.githubusercontent.com/tomjarvisn/database_viz_of_the_day_tablau/refs/heads/main/file_1/viz_46_US_USNationalParksVisitationTrends.png"
        ],
        [
         "47",
         "https://public.tableau.com/static/images/25/25oct/OCT2015/4_3.png",
         "viz_png\\viz_47_25_25oct.png",
         "viz_47_25_25oct.png",
         "file_1/viz_47_25_25oct.png",
         "https://raw.githubusercontent.com/tomjarvisn/database_viz_of_the_day_tablau/refs/heads/main/file_1/viz_47_25_25oct.png"
        ],
        [
         "48",
         "https://public.tableau.com/static/images/Wo/WorldCup2018MatchDashboard/WorldCup2018MatchDashboard_/4_3.png",
         "viz_png\\viz_48_Wo_WorldCup2018MatchDashboard.png",
         "viz_48_Wo_WorldCup2018MatchDashboard.png",
         "file_1/viz_48_Wo_WorldCup2018MatchDashboard.png",
         "https://raw.githubusercontent.com/tomjarvisn/database_viz_of_the_day_tablau/refs/heads/main/file_1/viz_48_Wo_WorldCup2018MatchDashboard.png"
        ],
        [
         "49",
         "https://public.tableau.com/static/images/Ir/IronVizTheEconomyofHealthcare/TheEconomyofHealthcare/4_3.png",
         "viz_png\\viz_49_Ir_IronVizTheEconomyofHealthcare.png",
         "viz_49_Ir_IronVizTheEconomyofHealthcare.png",
         "file_1/viz_49_Ir_IronVizTheEconomyofHealthcare.png",
         "https://raw.githubusercontent.com/tomjarvisn/database_viz_of_the_day_tablau/refs/heads/main/file_1/viz_49_Ir_IronVizTheEconomyofHealthcare.png"
        ]
       ],
       "shape": {
        "columns": 5,
        "rows": 3176
       }
      },
      "text/html": [
       "<div>\n",
       "<style scoped>\n",
       "    .dataframe tbody tr th:only-of-type {\n",
       "        vertical-align: middle;\n",
       "    }\n",
       "\n",
       "    .dataframe tbody tr th {\n",
       "        vertical-align: top;\n",
       "    }\n",
       "\n",
       "    .dataframe thead th {\n",
       "        text-align: right;\n",
       "    }\n",
       "</style>\n",
       "<table border=\"1\" class=\"dataframe\">\n",
       "  <thead>\n",
       "    <tr style=\"text-align: right;\">\n",
       "      <th></th>\n",
       "      <th>viz_url</th>\n",
       "      <th>png_path</th>\n",
       "      <th>filename</th>\n",
       "      <th>folder_index</th>\n",
       "      <th>github_url</th>\n",
       "    </tr>\n",
       "  </thead>\n",
       "  <tbody>\n",
       "    <tr>\n",
       "      <th>0</th>\n",
       "      <td>https://public.tableau.com/static/images/_4/_4...</td>\n",
       "      <td>viz_png\\viz_0__4__4100.png</td>\n",
       "      <td>viz_0__4__4100.png</td>\n",
       "      <td>file_1/viz_0__4__4100.png</td>\n",
       "      <td>https://raw.githubusercontent.com/tomjarvisn/d...</td>\n",
       "    </tr>\n",
       "    <tr>\n",
       "      <th>1</th>\n",
       "      <td>https://public.tableau.com/static/images/18/18...</td>\n",
       "      <td>viz_png\\viz_1_18_180315_class-culture_dotplots...</td>\n",
       "      <td>viz_1_18_180315_class-culture_dotplots.png</td>\n",
       "      <td>file_1/viz_1_18_180315_class-culture_dotplots.png</td>\n",
       "      <td>https://raw.githubusercontent.com/tomjarvisn/d...</td>\n",
       "    </tr>\n",
       "    <tr>\n",
       "      <th>2</th>\n",
       "      <td>https://public.tableau.com/static/images/Na/Na...</td>\n",
       "      <td>viz_png\\viz_2_Na_NanosNational.png</td>\n",
       "      <td>viz_2_Na_NanosNational.png</td>\n",
       "      <td>file_1/viz_2_Na_NanosNational.png</td>\n",
       "      <td>https://raw.githubusercontent.com/tomjarvisn/d...</td>\n",
       "    </tr>\n",
       "    <tr>\n",
       "      <th>3</th>\n",
       "      <td>https://public.tableau.com/static/images/Vi/Vi...</td>\n",
       "      <td>viz_png\\viz_3_Vi_VisualVocabulary.png</td>\n",
       "      <td>viz_3_Vi_VisualVocabulary.png</td>\n",
       "      <td>file_1/viz_3_Vi_VisualVocabulary.png</td>\n",
       "      <td>https://raw.githubusercontent.com/tomjarvisn/d...</td>\n",
       "    </tr>\n",
       "    <tr>\n",
       "      <th>4</th>\n",
       "      <td>https://public.tableau.com/static/images/To/To...</td>\n",
       "      <td>viz_png\\viz_4_To_TopPlacestoRetire.png</td>\n",
       "      <td>viz_4_To_TopPlacestoRetire.png</td>\n",
       "      <td>file_1/viz_4_To_TopPlacestoRetire.png</td>\n",
       "      <td>https://raw.githubusercontent.com/tomjarvisn/d...</td>\n",
       "    </tr>\n",
       "    <tr>\n",
       "      <th>...</th>\n",
       "      <td>...</td>\n",
       "      <td>...</td>\n",
       "      <td>...</td>\n",
       "      <td>...</td>\n",
       "      <td>...</td>\n",
       "    </tr>\n",
       "    <tr>\n",
       "      <th>3171</th>\n",
       "      <td>https://public.tableau.com/static/images/GA/GA...</td>\n",
       "      <td>viz_png\\viz_3171_GA_GAES19_1_4_1KeyTrends.png</td>\n",
       "      <td>viz_3171_GA_GAES19_1_4_1KeyTrends.png</td>\n",
       "      <td>file_7/viz_3171_GA_GAES19_1_4_1KeyTrends.png</td>\n",
       "      <td>https://raw.githubusercontent.com/tomjarvisn/d...</td>\n",
       "    </tr>\n",
       "    <tr>\n",
       "      <th>3172</th>\n",
       "      <td>https://public.tableau.com/static/images/Bo/Bo...</td>\n",
       "      <td>viz_png\\viz_3172_Bo_BoeingCommercialMarketOutl...</td>\n",
       "      <td>viz_3172_Bo_BoeingCommercialMarketOutlook2018-...</td>\n",
       "      <td>file_7/viz_3172_Bo_BoeingCommercialMarketOutlo...</td>\n",
       "      <td>https://raw.githubusercontent.com/tomjarvisn/d...</td>\n",
       "    </tr>\n",
       "    <tr>\n",
       "      <th>3173</th>\n",
       "      <td>https://public.tableau.com/static/images/Av/Av...</td>\n",
       "      <td>viz_png\\viz_3173_Av_AverageDomesticAirfareTime...</td>\n",
       "      <td>viz_3173_Av_AverageDomesticAirfareTimeSeries.png</td>\n",
       "      <td>file_7/viz_3173_Av_AverageDomesticAirfareTimeS...</td>\n",
       "      <td>https://raw.githubusercontent.com/tomjarvisn/d...</td>\n",
       "    </tr>\n",
       "    <tr>\n",
       "      <th>3174</th>\n",
       "      <td>https://public.tableau.com/static/images/IR/IR...</td>\n",
       "      <td>viz_png\\viz_3174_IR_IRENAREsourceRenewableEner...</td>\n",
       "      <td>viz_3174_IR_IRENAREsourceRenewableEnergyCharts...</td>\n",
       "      <td>file_7/viz_3174_IR_IRENAREsourceRenewableEnerg...</td>\n",
       "      <td>https://raw.githubusercontent.com/tomjarvisn/d...</td>\n",
       "    </tr>\n",
       "    <tr>\n",
       "      <th>3175</th>\n",
       "      <td>https://public.tableau.com/static/images/Th/Th...</td>\n",
       "      <td>viz_png\\viz_3175_Th_TheStorminMyBrainEndingthe...</td>\n",
       "      <td>viz_3175_Th_TheStorminMyBrainEndingthestigmaof...</td>\n",
       "      <td>file_7/viz_3175_Th_TheStorminMyBrainEndingthes...</td>\n",
       "      <td>https://raw.githubusercontent.com/tomjarvisn/d...</td>\n",
       "    </tr>\n",
       "  </tbody>\n",
       "</table>\n",
       "<p>3176 rows × 5 columns</p>\n",
       "</div>"
      ],
      "text/plain": [
       "                                                viz_url  \\\n",
       "0     https://public.tableau.com/static/images/_4/_4...   \n",
       "1     https://public.tableau.com/static/images/18/18...   \n",
       "2     https://public.tableau.com/static/images/Na/Na...   \n",
       "3     https://public.tableau.com/static/images/Vi/Vi...   \n",
       "4     https://public.tableau.com/static/images/To/To...   \n",
       "...                                                 ...   \n",
       "3171  https://public.tableau.com/static/images/GA/GA...   \n",
       "3172  https://public.tableau.com/static/images/Bo/Bo...   \n",
       "3173  https://public.tableau.com/static/images/Av/Av...   \n",
       "3174  https://public.tableau.com/static/images/IR/IR...   \n",
       "3175  https://public.tableau.com/static/images/Th/Th...   \n",
       "\n",
       "                                               png_path  \\\n",
       "0                            viz_png\\viz_0__4__4100.png   \n",
       "1     viz_png\\viz_1_18_180315_class-culture_dotplots...   \n",
       "2                    viz_png\\viz_2_Na_NanosNational.png   \n",
       "3                 viz_png\\viz_3_Vi_VisualVocabulary.png   \n",
       "4                viz_png\\viz_4_To_TopPlacestoRetire.png   \n",
       "...                                                 ...   \n",
       "3171      viz_png\\viz_3171_GA_GAES19_1_4_1KeyTrends.png   \n",
       "3172  viz_png\\viz_3172_Bo_BoeingCommercialMarketOutl...   \n",
       "3173  viz_png\\viz_3173_Av_AverageDomesticAirfareTime...   \n",
       "3174  viz_png\\viz_3174_IR_IRENAREsourceRenewableEner...   \n",
       "3175  viz_png\\viz_3175_Th_TheStorminMyBrainEndingthe...   \n",
       "\n",
       "                                               filename  \\\n",
       "0                                    viz_0__4__4100.png   \n",
       "1            viz_1_18_180315_class-culture_dotplots.png   \n",
       "2                            viz_2_Na_NanosNational.png   \n",
       "3                         viz_3_Vi_VisualVocabulary.png   \n",
       "4                        viz_4_To_TopPlacestoRetire.png   \n",
       "...                                                 ...   \n",
       "3171              viz_3171_GA_GAES19_1_4_1KeyTrends.png   \n",
       "3172  viz_3172_Bo_BoeingCommercialMarketOutlook2018-...   \n",
       "3173   viz_3173_Av_AverageDomesticAirfareTimeSeries.png   \n",
       "3174  viz_3174_IR_IRENAREsourceRenewableEnergyCharts...   \n",
       "3175  viz_3175_Th_TheStorminMyBrainEndingthestigmaof...   \n",
       "\n",
       "                                           folder_index  \\\n",
       "0                             file_1/viz_0__4__4100.png   \n",
       "1     file_1/viz_1_18_180315_class-culture_dotplots.png   \n",
       "2                     file_1/viz_2_Na_NanosNational.png   \n",
       "3                  file_1/viz_3_Vi_VisualVocabulary.png   \n",
       "4                 file_1/viz_4_To_TopPlacestoRetire.png   \n",
       "...                                                 ...   \n",
       "3171       file_7/viz_3171_GA_GAES19_1_4_1KeyTrends.png   \n",
       "3172  file_7/viz_3172_Bo_BoeingCommercialMarketOutlo...   \n",
       "3173  file_7/viz_3173_Av_AverageDomesticAirfareTimeS...   \n",
       "3174  file_7/viz_3174_IR_IRENAREsourceRenewableEnerg...   \n",
       "3175  file_7/viz_3175_Th_TheStorminMyBrainEndingthes...   \n",
       "\n",
       "                                             github_url  \n",
       "0     https://raw.githubusercontent.com/tomjarvisn/d...  \n",
       "1     https://raw.githubusercontent.com/tomjarvisn/d...  \n",
       "2     https://raw.githubusercontent.com/tomjarvisn/d...  \n",
       "3     https://raw.githubusercontent.com/tomjarvisn/d...  \n",
       "4     https://raw.githubusercontent.com/tomjarvisn/d...  \n",
       "...                                                 ...  \n",
       "3171  https://raw.githubusercontent.com/tomjarvisn/d...  \n",
       "3172  https://raw.githubusercontent.com/tomjarvisn/d...  \n",
       "3173  https://raw.githubusercontent.com/tomjarvisn/d...  \n",
       "3174  https://raw.githubusercontent.com/tomjarvisn/d...  \n",
       "3175  https://raw.githubusercontent.com/tomjarvisn/d...  \n",
       "\n",
       "[3176 rows x 5 columns]"
      ]
     },
     "execution_count": 5,
     "metadata": {},
     "output_type": "execute_result"
    }
   ],
   "source": [
    "import pandas as pd\n",
    "import os\n",
    "from PIL import Image\n",
    "df = pd.read_csv(\"tableau_viz_png.csv\", sep=\";\")\n",
    "df"
   ]
  },
  {
   "cell_type": "code",
   "execution_count": 6,
   "id": "6fff7637",
   "metadata": {},
   "outputs": [
    {
     "name": "stdout",
     "output_type": "stream",
     "text": [
      "✅ Proceso finalizado. CSV guardado como 'tableau_viz_png_sanitizado.csv'.\n"
     ]
    }
   ],
   "source": [
    "import pandas as pd\n",
    "import os\n",
    "from PIL import Image\n",
    "\n",
    "# 1) Cargar el CSV original\n",
    "df = pd.read_csv(\"tableau_viz_png.csv\", sep=\";\")\n",
    "\n",
    "# 2) Definimos las 7 carpetas nuevas\n",
    "n_folders = 7\n",
    "prefix_folder = \"file_a_\"  # así serán file_a_1, file_a_2, ..., file_a_7\n",
    "\n",
    "# Creamos las carpetas (si no existen)\n",
    "for i in range(1, n_folders + 1):\n",
    "    carpeta = f\"{prefix_folder}{i}\"\n",
    "    os.makedirs(carpeta, exist_ok=True)\n",
    "\n",
    "# 3) Para cada fila, generar nombre “robusto” y mover/guardarlos en RGB\n",
    "def sanitizar_nombre(idx):\n",
    "    \"\"\"\n",
    "    Genera un nombre robusto basado en el índice:\n",
    "    viz_0.png, viz_1.png, viz_2.png, ...\n",
    "    \"\"\"\n",
    "    return f\"viz_{idx}.png\"\n",
    "\n",
    "sanitized_paths = []\n",
    "\n",
    "for idx, row in df.iterrows():\n",
    "    # 3.1) Determinar a qué carpeta va (índice inicia en 0)\n",
    "    folder_index = (idx // 500) + 1\n",
    "    carpeta_dest = f\"{prefix_folder}{folder_index}\"\n",
    "\n",
    "    # 3.2) Generar nombre nuevo robusto\n",
    "    new_filename = sanitizar_nombre(idx)\n",
    "\n",
    "    # 3.3) Leer el PNG original (asumiendo png_path con slash/backslash)\n",
    "    #      Asegurate de que esa ruta sea correcta en tu repositorio local.\n",
    "    original_path = row[\"folder_index\"].replace(\"\\\\\", \"/\")\n",
    "    if not os.path.isfile(original_path):\n",
    "        print(f\"❌ No encontré este archivo: {original_path}\")\n",
    "        sanitized_paths.append(\"\")  # dejamos vacío por seguridad\n",
    "        continue\n",
    "\n",
    "    # 3.4) Abrir con PIL, convertir a RGB (3 canales) y guardar optimizado\n",
    "    img = Image.open(original_path)\n",
    "    # Si venía en RGBA o P, convertir a RGB para evitar canal alfa problemática\n",
    "    if img.mode in (\"RGBA\", \"P\", \"LA\"):\n",
    "        img = img.convert(\"RGB\")\n",
    "\n",
    "    # Construir ruta destino\n",
    "    destino = os.path.join(carpeta_dest, new_filename)\n",
    "\n",
    "    # Guardar como PNG optimizado (sin canal alfa), así Tableau lo entienda\n",
    "    img.save(destino, format=\"PNG\", optimize=True)\n",
    "\n",
    "    # 3.5) Anotar en lista para agregar al DataFrame\n",
    "    sanitized_paths.append(destino)\n",
    "\n",
    "# 4) Insertar la columna nueva en el DataFrame\n",
    "df[\"sanitized_path\"] = sanitized_paths\n",
    "\n",
    "# 5) Guardar CSV final\n",
    "df.to_csv(\"tableau_viz_png_sanitizado.csv\", sep=\";\", index=False)\n",
    "\n",
    "print(\"✅ Proceso finalizado. CSV guardado como 'tableau_viz_png_sanitizado.csv'.\")\n"
   ]
  },
  {
   "cell_type": "code",
   "execution_count": 13,
   "id": "def7979d",
   "metadata": {},
   "outputs": [],
   "source": [
    "df.to_csv(\"tableau_viz_png_sanitizado.csv\", sep=\";\", index=False)\n"
   ]
  },
  {
   "cell_type": "code",
   "execution_count": 14,
   "id": "c194c6c0",
   "metadata": {},
   "outputs": [
    {
     "data": {
      "application/vnd.microsoft.datawrangler.viewer.v0+json": {
       "columns": [
        {
         "name": "index",
         "rawType": "int64",
         "type": "integer"
        },
        {
         "name": "viz_url",
         "rawType": "object",
         "type": "string"
        },
        {
         "name": "png_path",
         "rawType": "object",
         "type": "string"
        },
        {
         "name": "filename",
         "rawType": "object",
         "type": "string"
        },
        {
         "name": "folder_index",
         "rawType": "object",
         "type": "string"
        },
        {
         "name": "github_url",
         "rawType": "object",
         "type": "string"
        },
        {
         "name": "sanitized_path",
         "rawType": "object",
         "type": "string"
        }
       ],
       "ref": "9a22b578-5cee-4c5d-8ec1-0bd8f660527a",
       "rows": [
        [
         "0",
         "https://public.tableau.com/static/images/_4/_4100/Dashboard2/4_3.png",
         "viz_png\\viz_0__4__4100.png",
         "viz_0__4__4100.png",
         "file_1/viz_0__4__4100.png",
         "https://raw.githubusercontent.com/tomjarvisn/database_viz_of_the_day_tablau/refs/heads/main/file_a_1/viz_0.png",
         "file_a_1\\viz_0.png"
        ],
        [
         "1",
         "https://public.tableau.com/static/images/18/180315_class-culture_dotplots/lit-genre/4_3.png",
         "viz_png\\viz_1_18_180315_class-culture_dotplots.png",
         "viz_1_18_180315_class-culture_dotplots.png",
         "file_1/viz_1_18_180315_class-culture_dotplots.png",
         "https://raw.githubusercontent.com/tomjarvisn/database_viz_of_the_day_tablau/refs/heads/main/file_a_1/viz_1.png",
         "file_a_1\\viz_1.png"
        ],
        [
         "2",
         "https://public.tableau.com/static/images/Na/NanosNational/NATIONAL/4_3.png",
         "viz_png\\viz_2_Na_NanosNational.png",
         "viz_2_Na_NanosNational.png",
         "file_1/viz_2_Na_NanosNational.png",
         "https://raw.githubusercontent.com/tomjarvisn/database_viz_of_the_day_tablau/refs/heads/main/file_a_1/viz_2.png",
         "file_a_1\\viz_2.png"
        ],
        [
         "3",
         "https://public.tableau.com/static/images/Vi/VisualVocabulary/VisualVocabulary/4_3.png",
         "viz_png\\viz_3_Vi_VisualVocabulary.png",
         "viz_3_Vi_VisualVocabulary.png",
         "file_1/viz_3_Vi_VisualVocabulary.png",
         "https://raw.githubusercontent.com/tomjarvisn/database_viz_of_the_day_tablau/refs/heads/main/file_a_1/viz_3.png",
         "file_a_1\\viz_3.png"
        ],
        [
         "4",
         "https://public.tableau.com/static/images/To/TopPlacestoRetire/Dashboard1/4_3.png",
         "viz_png\\viz_4_To_TopPlacestoRetire.png",
         "viz_4_To_TopPlacestoRetire.png",
         "file_1/viz_4_To_TopPlacestoRetire.png",
         "https://raw.githubusercontent.com/tomjarvisn/database_viz_of_the_day_tablau/refs/heads/main/file_a_1/viz_4.png",
         "file_a_1\\viz_4.png"
        ],
        [
         "5",
         "https://public.tableau.com/static/images/Ge/GenderedNameChanges/GenderedNameChanges/4_3.png",
         "viz_png\\viz_5_Ge_GenderedNameChanges.png",
         "viz_5_Ge_GenderedNameChanges.png",
         "file_1/viz_5_Ge_GenderedNameChanges.png",
         "https://raw.githubusercontent.com/tomjarvisn/database_viz_of_the_day_tablau/refs/heads/main/file_a_1/viz_5.png",
         "file_a_1\\viz_5.png"
        ],
        [
         "6",
         "https://public.tableau.com/static/images/Ar/Artificial_Intelligence/Impact_of_AI_and_Analytics/4_3.png",
         "viz_png\\viz_6_Ar_Artificial_Intelligence.png",
         "viz_6_Ar_Artificial_Intelligence.png",
         "file_1/viz_6_Ar_Artificial_Intelligence.png",
         "https://raw.githubusercontent.com/tomjarvisn/database_viz_of_the_day_tablau/refs/heads/main/file_a_1/viz_6.png",
         "file_a_1\\viz_6.png"
        ],
        [
         "7",
         "https://public.tableau.com/static/images/hs/hsc2016/HRvsICSEA/4_3.png",
         "viz_png\\viz_7_hs_hsc2016.png",
         "viz_7_hs_hsc2016.png",
         "file_1/viz_7_hs_hsc2016.png",
         "https://raw.githubusercontent.com/tomjarvisn/database_viz_of_the_day_tablau/refs/heads/main/file_a_1/viz_7.png",
         "file_a_1\\viz_7.png"
        ],
        [
         "8",
         "https://public.tableau.com/static/images/Th/TheHistoryoftheNFL/TheHistoryoftheNFL/4_3.png",
         "viz_png\\viz_8_Th_TheHistoryoftheNFL.png",
         "viz_8_Th_TheHistoryoftheNFL.png",
         "file_1/viz_8_Th_TheHistoryoftheNFL.png",
         "https://raw.githubusercontent.com/tomjarvisn/database_viz_of_the_day_tablau/refs/heads/main/file_a_1/viz_8.png",
         "file_a_1\\viz_8.png"
        ],
        [
         "9",
         "https://public.tableau.com/static/images/Ap/Apportionment_16116063135030/Apportionment/4_3.png",
         "viz_png\\viz_9_Ap_Apportionment_16116063135030.png",
         "viz_9_Ap_Apportionment_16116063135030.png",
         "file_1/viz_9_Ap_Apportionment_16116063135030.png",
         "https://raw.githubusercontent.com/tomjarvisn/database_viz_of_the_day_tablau/refs/heads/main/file_a_1/viz_9.png",
         "file_a_1\\viz_9.png"
        ],
        [
         "10",
         "https://public.tableau.com/static/images/Be/BeatlesAnalysis/BeatlesAnalysis/4_3.png",
         "viz_png\\viz_10_Be_BeatlesAnalysis.png",
         "viz_10_Be_BeatlesAnalysis.png",
         "file_1/viz_10_Be_BeatlesAnalysis.png",
         "https://raw.githubusercontent.com/tomjarvisn/database_viz_of_the_day_tablau/refs/heads/main/file_a_1/viz_10.png",
         "file_a_1\\viz_10.png"
        ],
        [
         "11",
         "https://public.tableau.com/static/images/Mo/MostCommonBirthdays/MostCommonBirthdays/4_3.png",
         "viz_png\\viz_11_Mo_MostCommonBirthdays.png",
         "viz_11_Mo_MostCommonBirthdays.png",
         "file_1/viz_11_Mo_MostCommonBirthdays.png",
         "https://raw.githubusercontent.com/tomjarvisn/database_viz_of_the_day_tablau/refs/heads/main/file_a_1/viz_11.png",
         "file_a_1\\viz_11.png"
        ],
        [
         "12",
         "https://public.tableau.com/static/images/Ca/Case-Shiller-YOY/YOYChange/4_3.png",
         "viz_png\\viz_12_Ca_Case-Shiller-YOY.png",
         "viz_12_Ca_Case-Shiller-YOY.png",
         "file_1/viz_12_Ca_Case-Shiller-YOY.png",
         "https://raw.githubusercontent.com/tomjarvisn/database_viz_of_the_day_tablau/refs/heads/main/file_a_1/viz_12.png",
         "file_a_1\\viz_12.png"
        ],
        [
         "13",
         "https://public.tableau.com/static/images/GD/GDP-NUTS3-2014/Dashboard6/4_3.png",
         "viz_png\\viz_13_GD_GDP-NUTS3-2014.png",
         "viz_13_GD_GDP-NUTS3-2014.png",
         "file_1/viz_13_GD_GDP-NUTS3-2014.png",
         "https://raw.githubusercontent.com/tomjarvisn/database_viz_of_the_day_tablau/refs/heads/main/file_a_1/viz_13.png",
         "file_a_1\\viz_13.png"
        ],
        [
         "14",
         "https://public.tableau.com/static/images/Au/AutonomousVehicles/AV/4_3.png",
         "viz_png\\viz_14_Au_AutonomousVehicles.png",
         "viz_14_Au_AutonomousVehicles.png",
         "file_1/viz_14_Au_AutonomousVehicles.png",
         "https://raw.githubusercontent.com/tomjarvisn/database_viz_of_the_day_tablau/refs/heads/main/file_a_1/viz_14.png",
         "file_a_1\\viz_14.png"
        ],
        [
         "15",
         "https://public.tableau.com/static/images/CO/COVID-19attheWhiteHouse-ContactTracking/Home/4_3.png",
         "viz_png\\viz_15_CO_COVID-19attheWhiteHouse-ContactTracking.png",
         "viz_15_CO_COVID-19attheWhiteHouse-ContactTracking.png",
         "file_1/viz_15_CO_COVID-19attheWhiteHouse-ContactTracking.png",
         "https://raw.githubusercontent.com/tomjarvisn/database_viz_of_the_day_tablau/refs/heads/main/file_a_1/viz_15.png",
         "file_a_1\\viz_15.png"
        ],
        [
         "16",
         "https://public.tableau.com/static/images/Th/TheMoneyFight-MayweathervsMcGregor/TheMoneyFightMayweathervsMcGregor/4_3.png",
         "viz_png\\viz_16_Th_TheMoneyFight-MayweathervsMcGregor.png",
         "viz_16_Th_TheMoneyFight-MayweathervsMcGregor.png",
         "file_1/viz_16_Th_TheMoneyFight-MayweathervsMcGregor.png",
         "https://raw.githubusercontent.com/tomjarvisn/database_viz_of_the_day_tablau/refs/heads/main/file_a_1/viz_16.png",
         "file_a_1\\viz_16.png"
        ],
        [
         "17",
         "https://public.tableau.com/static/images/Fo/ForeignFightersInIraqSyria/ForeignFightersIraqSyria/4_3.png",
         "viz_png\\viz_17_Fo_ForeignFightersInIraqSyria.png",
         "viz_17_Fo_ForeignFightersInIraqSyria.png",
         "file_1/viz_17_Fo_ForeignFightersInIraqSyria.png",
         "https://raw.githubusercontent.com/tomjarvisn/database_viz_of_the_day_tablau/refs/heads/main/file_a_1/viz_17.png",
         "file_a_1\\viz_17.png"
        ],
        [
         "18",
         "https://public.tableau.com/static/images/Hi/HigherEdBudgetSqueeze/HigherEdSpending/4_3.png",
         "viz_png\\viz_18_Hi_HigherEdBudgetSqueeze.png",
         "viz_18_Hi_HigherEdBudgetSqueeze.png",
         "file_1/viz_18_Hi_HigherEdBudgetSqueeze.png",
         "https://raw.githubusercontent.com/tomjarvisn/database_viz_of_the_day_tablau/refs/heads/main/file_a_1/viz_18.png",
         "file_a_1\\viz_18.png"
        ],
        [
         "19",
         "https://public.tableau.com/static/images/SG/SGHospitalBillsJuly8/HospitalBillSizeJuly12/4_3.png",
         "viz_png\\viz_19_SG_SGHospitalBillsJuly8.png",
         "viz_19_SG_SGHospitalBillsJuly8.png",
         "file_1/viz_19_SG_SGHospitalBillsJuly8.png",
         "https://raw.githubusercontent.com/tomjarvisn/database_viz_of_the_day_tablau/refs/heads/main/file_a_1/viz_19.png",
         "file_a_1\\viz_19.png"
        ],
        [
         "20",
         "https://public.tableau.com/static/images/Co/CostofLivingintheWorld/Dashboard12/4_3.png",
         "viz_png\\viz_20_Co_CostofLivingintheWorld.png",
         "viz_20_Co_CostofLivingintheWorld.png",
         "file_1/viz_20_Co_CostofLivingintheWorld.png",
         "https://raw.githubusercontent.com/tomjarvisn/database_viz_of_the_day_tablau/refs/heads/main/file_a_1/viz_20.png",
         "file_a_1\\viz_20.png"
        ],
        [
         "21",
         "https://public.tableau.com/static/images/Ra/RacetoAlaska/RacetoAlaska/4_3.png",
         "viz_png\\viz_21_Ra_RacetoAlaska.png",
         "viz_21_Ra_RacetoAlaska.png",
         "file_1/viz_21_Ra_RacetoAlaska.png",
         "https://raw.githubusercontent.com/tomjarvisn/database_viz_of_the_day_tablau/refs/heads/main/file_a_1/viz_21.png",
         "file_a_1\\viz_21.png"
        ],
        [
         "22",
         "https://public.tableau.com/static/images/Ra/RankingFIFAOK_0/Dashboard1/4_3.png",
         "viz_png\\viz_22_Ra_RankingFIFAOK_0.png",
         "viz_22_Ra_RankingFIFAOK_0.png",
         "file_1/viz_22_Ra_RankingFIFAOK_0.png",
         "https://raw.githubusercontent.com/tomjarvisn/database_viz_of_the_day_tablau/refs/heads/main/file_a_1/viz_22.png",
         "file_a_1\\viz_22.png"
        ],
        [
         "23",
         "https://public.tableau.com/static/images/re/real-rio-olympic-tally/Population/4_3.png",
         "viz_png\\viz_23_re_real-rio-olympic-tally.png",
         "viz_23_re_real-rio-olympic-tally.png",
         "file_1/viz_23_re_real-rio-olympic-tally.png",
         "https://raw.githubusercontent.com/tomjarvisn/database_viz_of_the_day_tablau/refs/heads/main/file_a_1/viz_23.png",
         "file_a_1\\viz_23.png"
        ],
        [
         "24",
         "https://public.tableau.com/static/images/Ne/NewspapersByCountyUnitedStates/DesertandOne/4_3.png",
         "viz_png\\viz_24_Ne_NewspapersByCountyUnitedStates.png",
         "viz_24_Ne_NewspapersByCountyUnitedStates.png",
         "file_1/viz_24_Ne_NewspapersByCountyUnitedStates.png",
         "https://raw.githubusercontent.com/tomjarvisn/database_viz_of_the_day_tablau/refs/heads/main/file_a_1/viz_24.png",
         "file_a_1\\viz_24.png"
        ],
        [
         "25",
         "https://public.tableau.com/static/images/Ma/MapaCongresoColombia2018/Departamentos/4_3.png",
         "viz_png\\viz_25_Ma_MapaCongresoColombia2018.png",
         "viz_25_Ma_MapaCongresoColombia2018.png",
         "file_1/viz_25_Ma_MapaCongresoColombia2018.png",
         "https://raw.githubusercontent.com/tomjarvisn/database_viz_of_the_day_tablau/refs/heads/main/file_a_1/viz_25.png",
         "file_a_1\\viz_25.png"
        ],
        [
         "26",
         "https://public.tableau.com/static/images/Co/CollegeCosts-Subsidies/CollegeCostsSubsidies/4_3.png",
         "viz_png\\viz_26_Co_CollegeCosts-Subsidies.png",
         "viz_26_Co_CollegeCosts-Subsidies.png",
         "file_1/viz_26_Co_CollegeCosts-Subsidies.png",
         "https://raw.githubusercontent.com/tomjarvisn/database_viz_of_the_day_tablau/refs/heads/main/file_a_1/viz_26.png",
         "file_a_1\\viz_26.png"
        ],
        [
         "27",
         "https://public.tableau.com/static/images/Sw/Swissleaks1/final/4_3.png",
         "viz_png\\viz_27_Sw_Swissleaks1.png",
         "viz_27_Sw_Swissleaks1.png",
         "file_1/viz_27_Sw_Swissleaks1.png",
         "https://raw.githubusercontent.com/tomjarvisn/database_viz_of_the_day_tablau/refs/heads/main/file_a_1/viz_27.png",
         "file_a_1\\viz_27.png"
        ],
        [
         "28",
         "https://public.tableau.com/static/images/Re/RecoveryWatch/RecoveryWatch/4_3.png",
         "viz_png\\viz_28_Re_RecoveryWatch.png",
         "viz_28_Re_RecoveryWatch.png",
         "file_1/viz_28_Re_RecoveryWatch.png",
         "https://raw.githubusercontent.com/tomjarvisn/database_viz_of_the_day_tablau/refs/heads/main/file_a_1/viz_28.png",
         "file_a_1\\viz_28.png"
        ],
        [
         "29",
         "https://public.tableau.com/static/images/Th/TheSpellsofHarryPotter/HarryPotterSpells/4_3.png",
         "viz_png\\viz_29_Th_TheSpellsofHarryPotter.png",
         "viz_29_Th_TheSpellsofHarryPotter.png",
         "file_1/viz_29_Th_TheSpellsofHarryPotter.png",
         "https://raw.githubusercontent.com/tomjarvisn/database_viz_of_the_day_tablau/refs/heads/main/file_a_1/viz_29.png",
         "file_a_1\\viz_29.png"
        ],
        [
         "30",
         "https://public.tableau.com/static/images/Ti/Titanic_265/Titanic/4_3.png",
         "viz_png\\viz_30_Ti_Titanic_265.png",
         "viz_30_Ti_Titanic_265.png",
         "file_1/viz_30_Ti_Titanic_265.png",
         "https://raw.githubusercontent.com/tomjarvisn/database_viz_of_the_day_tablau/refs/heads/main/file_a_1/viz_30.png",
         "file_a_1\\viz_30.png"
        ],
        [
         "31",
         "https://public.tableau.com/static/images/Ga/GazpromsGripFinal/GG-final/4_3.png",
         "viz_png\\viz_31_Ga_GazpromsGripFinal.png",
         "viz_31_Ga_GazpromsGripFinal.png",
         "file_1/viz_31_Ga_GazpromsGripFinal.png",
         "https://raw.githubusercontent.com/tomjarvisn/database_viz_of_the_day_tablau/refs/heads/main/file_a_1/viz_31.png",
         "file_a_1\\viz_31.png"
        ],
        [
         "32",
         "https://public.tableau.com/static/images/vi/virusmundo/Story1/4_3.png",
         "viz_png\\viz_32_vi_virusmundo.png",
         "viz_32_vi_virusmundo.png",
         "file_1/viz_32_vi_virusmundo.png",
         "https://raw.githubusercontent.com/tomjarvisn/database_viz_of_the_day_tablau/refs/heads/main/file_a_1/viz_32.png",
         "file_a_1\\viz_32.png"
        ],
        [
         "33",
         "https://public.tableau.com/static/images/Sh/ShippingIndustryExample_10_0/ShippingKPI/4_3.png",
         "viz_png\\viz_33_Sh_ShippingIndustryExample_10_0.png",
         "viz_33_Sh_ShippingIndustryExample_10_0.png",
         "file_1/viz_33_Sh_ShippingIndustryExample_10_0.png",
         "https://raw.githubusercontent.com/tomjarvisn/database_viz_of_the_day_tablau/refs/heads/main/file_a_1/viz_33.png",
         "file_a_1\\viz_33.png"
        ],
        [
         "34",
         "https://public.tableau.com/static/images/Ze/Zeitplan_Paralympics_2018_0/Dashboard1/4_3.png",
         "viz_png\\viz_34_Ze_Zeitplan_Paralympics_2018_0.png",
         "viz_34_Ze_Zeitplan_Paralympics_2018_0.png",
         "file_1/viz_34_Ze_Zeitplan_Paralympics_2018_0.png",
         "https://raw.githubusercontent.com/tomjarvisn/database_viz_of_the_day_tablau/refs/heads/main/file_a_1/viz_34.png",
         "file_a_1\\viz_34.png"
        ],
        [
         "35",
         "https://public.tableau.com/static/images/Th/TheTableauBookofCalcs/TitlePage/4_3.png",
         "viz_png\\viz_35_Th_TheTableauBookofCalcs.png",
         "viz_35_Th_TheTableauBookofCalcs.png",
         "file_1/viz_35_Th_TheTableauBookofCalcs.png",
         "https://raw.githubusercontent.com/tomjarvisn/database_viz_of_the_day_tablau/refs/heads/main/file_a_1/viz_35.png",
         "file_a_1\\viz_35.png"
        ],
        [
         "36",
         "https://public.tableau.com/static/images/US/USRecordedMusicRevenuebyFormat-1973to2018/USRecordedMusicRevenuebyFormat-1973to2018/4_3.png",
         "viz_png\\viz_36_US_USRecordedMusicRevenuebyFormat-1973to2018.png",
         "viz_36_US_USRecordedMusicRevenuebyFormat-1973to2018.png",
         "file_1/viz_36_US_USRecordedMusicRevenuebyFormat-1973to2018.png",
         "https://raw.githubusercontent.com/tomjarvisn/database_viz_of_the_day_tablau/refs/heads/main/file_a_1/viz_36.png",
         "file_a_1\\viz_36.png"
        ],
        [
         "37",
         "https://public.tableau.com/static/images/Ta/TableauFoundationLivingReport/Ataglance/4_3.png",
         "viz_png\\viz_37_Ta_TableauFoundationLivingReport.png",
         "viz_37_Ta_TableauFoundationLivingReport.png",
         "file_1/viz_37_Ta_TableauFoundationLivingReport.png",
         "https://raw.githubusercontent.com/tomjarvisn/database_viz_of_the_day_tablau/refs/heads/main/file_a_1/viz_37.png",
         "file_a_1\\viz_37.png"
        ],
        [
         "38",
         "https://public.tableau.com/static/images/Ba/Banksy/Home/4_3.png",
         "viz_png\\viz_38_Ba_Banksy.png",
         "viz_38_Ba_Banksy.png",
         "file_1/viz_38_Ba_Banksy.png",
         "https://raw.githubusercontent.com/tomjarvisn/database_viz_of_the_day_tablau/refs/heads/main/file_a_1/viz_38.png",
         "file_a_1\\viz_38.png"
        ],
        [
         "39",
         "https://public.tableau.com/static/images/gl/globaltrends2014_refugees/RefugeesinAustralia/4_3.png",
         "viz_png\\viz_39_gl_globaltrends2014_refugees.png",
         "viz_39_gl_globaltrends2014_refugees.png",
         "file_1/viz_39_gl_globaltrends2014_refugees.png",
         "https://raw.githubusercontent.com/tomjarvisn/database_viz_of_the_day_tablau/refs/heads/main/file_a_1/viz_39.png",
         "file_a_1\\viz_39.png"
        ],
        [
         "40",
         "https://public.tableau.com/static/images/Dr/Dreamforce2019WaterBottleRefills/EnvironmentalImpact/4_3.png",
         "viz_png\\viz_40_Dr_Dreamforce2019WaterBottleRefills.png",
         "viz_40_Dr_Dreamforce2019WaterBottleRefills.png",
         "file_1/viz_40_Dr_Dreamforce2019WaterBottleRefills.png",
         "https://raw.githubusercontent.com/tomjarvisn/database_viz_of_the_day_tablau/refs/heads/main/file_a_1/viz_40.png",
         "file_a_1\\viz_40.png"
        ],
        [
         "41",
         "https://public.tableau.com/static/images/Fi/FilmGenrePopularity-1910-2018/GenreRelativePopularity/4_3.png",
         "viz_png\\viz_41_Fi_FilmGenrePopularity-1910-2018.png",
         "viz_41_Fi_FilmGenrePopularity-1910-2018.png",
         "file_1/viz_41_Fi_FilmGenrePopularity-1910-2018.png",
         "https://raw.githubusercontent.com/tomjarvisn/database_viz_of_the_day_tablau/refs/heads/main/file_a_1/viz_41.png",
         "file_a_1\\viz_41.png"
        ],
        [
         "42",
         "https://public.tableau.com/static/images/OP/OPALCOFinancial/BudgetVariance_1/4_3.png",
         "viz_png\\viz_42_OP_OPALCOFinancial.png",
         "viz_42_OP_OPALCOFinancial.png",
         "file_1/viz_42_OP_OPALCOFinancial.png",
         "https://raw.githubusercontent.com/tomjarvisn/database_viz_of_the_day_tablau/refs/heads/main/file_a_1/viz_42.png",
         "file_a_1\\viz_42.png"
        ],
        [
         "43",
         "https://public.tableau.com/static/images/Ca/CarColorEvolutionNorthAmerica/ColorRankOverTime/4_3.png",
         "viz_png\\viz_43_Ca_CarColorEvolutionNorthAmerica.png",
         "viz_43_Ca_CarColorEvolutionNorthAmerica.png",
         "file_1/viz_43_Ca_CarColorEvolutionNorthAmerica.png",
         "https://raw.githubusercontent.com/tomjarvisn/database_viz_of_the_day_tablau/refs/heads/main/file_a_1/viz_43.png",
         "file_a_1\\viz_43.png"
        ],
        [
         "44",
         "https://public.tableau.com/static/images/Ma/MakeoverMonday-Week44-BankHolidays/BankHolidays/4_3.png",
         "viz_png\\viz_44_Ma_MakeoverMonday-Week44-BankHolidays.png",
         "viz_44_Ma_MakeoverMonday-Week44-BankHolidays.png",
         "file_1/viz_44_Ma_MakeoverMonday-Week44-BankHolidays.png",
         "https://raw.githubusercontent.com/tomjarvisn/database_viz_of_the_day_tablau/refs/heads/main/file_a_1/viz_44.png",
         "file_a_1\\viz_44.png"
        ],
        [
         "45",
         "https://public.tableau.com/static/images/Sm/SmartphoneCostBreakdown/Overview/4_3.png",
         "viz_png\\viz_45_Sm_SmartphoneCostBreakdown.png",
         "viz_45_Sm_SmartphoneCostBreakdown.png",
         "file_1/viz_45_Sm_SmartphoneCostBreakdown.png",
         "https://raw.githubusercontent.com/tomjarvisn/database_viz_of_the_day_tablau/refs/heads/main/file_a_1/viz_45.png",
         "file_a_1\\viz_45.png"
        ],
        [
         "46",
         "https://public.tableau.com/static/images/US/USNationalParksVisitationTrends/Dashboard/4_3.png",
         "viz_png\\viz_46_US_USNationalParksVisitationTrends.png",
         "viz_46_US_USNationalParksVisitationTrends.png",
         "file_1/viz_46_US_USNationalParksVisitationTrends.png",
         "https://raw.githubusercontent.com/tomjarvisn/database_viz_of_the_day_tablau/refs/heads/main/file_a_1/viz_46.png",
         "file_a_1\\viz_46.png"
        ],
        [
         "47",
         "https://public.tableau.com/static/images/25/25oct/OCT2015/4_3.png",
         "viz_png\\viz_47_25_25oct.png",
         "viz_47_25_25oct.png",
         "file_1/viz_47_25_25oct.png",
         "https://raw.githubusercontent.com/tomjarvisn/database_viz_of_the_day_tablau/refs/heads/main/file_a_1/viz_47.png",
         "file_a_1\\viz_47.png"
        ],
        [
         "48",
         "https://public.tableau.com/static/images/Wo/WorldCup2018MatchDashboard/WorldCup2018MatchDashboard_/4_3.png",
         "viz_png\\viz_48_Wo_WorldCup2018MatchDashboard.png",
         "viz_48_Wo_WorldCup2018MatchDashboard.png",
         "file_1/viz_48_Wo_WorldCup2018MatchDashboard.png",
         "https://raw.githubusercontent.com/tomjarvisn/database_viz_of_the_day_tablau/refs/heads/main/file_a_1/viz_48.png",
         "file_a_1\\viz_48.png"
        ],
        [
         "49",
         "https://public.tableau.com/static/images/Ir/IronVizTheEconomyofHealthcare/TheEconomyofHealthcare/4_3.png",
         "viz_png\\viz_49_Ir_IronVizTheEconomyofHealthcare.png",
         "viz_49_Ir_IronVizTheEconomyofHealthcare.png",
         "file_1/viz_49_Ir_IronVizTheEconomyofHealthcare.png",
         "https://raw.githubusercontent.com/tomjarvisn/database_viz_of_the_day_tablau/refs/heads/main/file_a_1/viz_49.png",
         "file_a_1\\viz_49.png"
        ]
       ],
       "shape": {
        "columns": 6,
        "rows": 3176
       }
      },
      "text/html": [
       "<div>\n",
       "<style scoped>\n",
       "    .dataframe tbody tr th:only-of-type {\n",
       "        vertical-align: middle;\n",
       "    }\n",
       "\n",
       "    .dataframe tbody tr th {\n",
       "        vertical-align: top;\n",
       "    }\n",
       "\n",
       "    .dataframe thead th {\n",
       "        text-align: right;\n",
       "    }\n",
       "</style>\n",
       "<table border=\"1\" class=\"dataframe\">\n",
       "  <thead>\n",
       "    <tr style=\"text-align: right;\">\n",
       "      <th></th>\n",
       "      <th>viz_url</th>\n",
       "      <th>png_path</th>\n",
       "      <th>filename</th>\n",
       "      <th>folder_index</th>\n",
       "      <th>github_url</th>\n",
       "      <th>sanitized_path</th>\n",
       "    </tr>\n",
       "  </thead>\n",
       "  <tbody>\n",
       "    <tr>\n",
       "      <th>0</th>\n",
       "      <td>https://public.tableau.com/static/images/_4/_4...</td>\n",
       "      <td>viz_png\\viz_0__4__4100.png</td>\n",
       "      <td>viz_0__4__4100.png</td>\n",
       "      <td>file_1/viz_0__4__4100.png</td>\n",
       "      <td>https://raw.githubusercontent.com/tomjarvisn/d...</td>\n",
       "      <td>file_a_1\\viz_0.png</td>\n",
       "    </tr>\n",
       "    <tr>\n",
       "      <th>1</th>\n",
       "      <td>https://public.tableau.com/static/images/18/18...</td>\n",
       "      <td>viz_png\\viz_1_18_180315_class-culture_dotplots...</td>\n",
       "      <td>viz_1_18_180315_class-culture_dotplots.png</td>\n",
       "      <td>file_1/viz_1_18_180315_class-culture_dotplots.png</td>\n",
       "      <td>https://raw.githubusercontent.com/tomjarvisn/d...</td>\n",
       "      <td>file_a_1\\viz_1.png</td>\n",
       "    </tr>\n",
       "    <tr>\n",
       "      <th>2</th>\n",
       "      <td>https://public.tableau.com/static/images/Na/Na...</td>\n",
       "      <td>viz_png\\viz_2_Na_NanosNational.png</td>\n",
       "      <td>viz_2_Na_NanosNational.png</td>\n",
       "      <td>file_1/viz_2_Na_NanosNational.png</td>\n",
       "      <td>https://raw.githubusercontent.com/tomjarvisn/d...</td>\n",
       "      <td>file_a_1\\viz_2.png</td>\n",
       "    </tr>\n",
       "    <tr>\n",
       "      <th>3</th>\n",
       "      <td>https://public.tableau.com/static/images/Vi/Vi...</td>\n",
       "      <td>viz_png\\viz_3_Vi_VisualVocabulary.png</td>\n",
       "      <td>viz_3_Vi_VisualVocabulary.png</td>\n",
       "      <td>file_1/viz_3_Vi_VisualVocabulary.png</td>\n",
       "      <td>https://raw.githubusercontent.com/tomjarvisn/d...</td>\n",
       "      <td>file_a_1\\viz_3.png</td>\n",
       "    </tr>\n",
       "    <tr>\n",
       "      <th>4</th>\n",
       "      <td>https://public.tableau.com/static/images/To/To...</td>\n",
       "      <td>viz_png\\viz_4_To_TopPlacestoRetire.png</td>\n",
       "      <td>viz_4_To_TopPlacestoRetire.png</td>\n",
       "      <td>file_1/viz_4_To_TopPlacestoRetire.png</td>\n",
       "      <td>https://raw.githubusercontent.com/tomjarvisn/d...</td>\n",
       "      <td>file_a_1\\viz_4.png</td>\n",
       "    </tr>\n",
       "    <tr>\n",
       "      <th>...</th>\n",
       "      <td>...</td>\n",
       "      <td>...</td>\n",
       "      <td>...</td>\n",
       "      <td>...</td>\n",
       "      <td>...</td>\n",
       "      <td>...</td>\n",
       "    </tr>\n",
       "    <tr>\n",
       "      <th>3171</th>\n",
       "      <td>https://public.tableau.com/static/images/GA/GA...</td>\n",
       "      <td>viz_png\\viz_3171_GA_GAES19_1_4_1KeyTrends.png</td>\n",
       "      <td>viz_3171_GA_GAES19_1_4_1KeyTrends.png</td>\n",
       "      <td>file_7/viz_3171_GA_GAES19_1_4_1KeyTrends.png</td>\n",
       "      <td>https://raw.githubusercontent.com/tomjarvisn/d...</td>\n",
       "      <td>file_a_7\\viz_3171.png</td>\n",
       "    </tr>\n",
       "    <tr>\n",
       "      <th>3172</th>\n",
       "      <td>https://public.tableau.com/static/images/Bo/Bo...</td>\n",
       "      <td>viz_png\\viz_3172_Bo_BoeingCommercialMarketOutl...</td>\n",
       "      <td>viz_3172_Bo_BoeingCommercialMarketOutlook2018-...</td>\n",
       "      <td>file_7/viz_3172_Bo_BoeingCommercialMarketOutlo...</td>\n",
       "      <td>https://raw.githubusercontent.com/tomjarvisn/d...</td>\n",
       "      <td>file_a_7\\viz_3172.png</td>\n",
       "    </tr>\n",
       "    <tr>\n",
       "      <th>3173</th>\n",
       "      <td>https://public.tableau.com/static/images/Av/Av...</td>\n",
       "      <td>viz_png\\viz_3173_Av_AverageDomesticAirfareTime...</td>\n",
       "      <td>viz_3173_Av_AverageDomesticAirfareTimeSeries.png</td>\n",
       "      <td>file_7/viz_3173_Av_AverageDomesticAirfareTimeS...</td>\n",
       "      <td>https://raw.githubusercontent.com/tomjarvisn/d...</td>\n",
       "      <td>file_a_7\\viz_3173.png</td>\n",
       "    </tr>\n",
       "    <tr>\n",
       "      <th>3174</th>\n",
       "      <td>https://public.tableau.com/static/images/IR/IR...</td>\n",
       "      <td>viz_png\\viz_3174_IR_IRENAREsourceRenewableEner...</td>\n",
       "      <td>viz_3174_IR_IRENAREsourceRenewableEnergyCharts...</td>\n",
       "      <td>file_7/viz_3174_IR_IRENAREsourceRenewableEnerg...</td>\n",
       "      <td>https://raw.githubusercontent.com/tomjarvisn/d...</td>\n",
       "      <td>file_a_7\\viz_3174.png</td>\n",
       "    </tr>\n",
       "    <tr>\n",
       "      <th>3175</th>\n",
       "      <td>https://public.tableau.com/static/images/Th/Th...</td>\n",
       "      <td>viz_png\\viz_3175_Th_TheStorminMyBrainEndingthe...</td>\n",
       "      <td>viz_3175_Th_TheStorminMyBrainEndingthestigmaof...</td>\n",
       "      <td>file_7/viz_3175_Th_TheStorminMyBrainEndingthes...</td>\n",
       "      <td>https://raw.githubusercontent.com/tomjarvisn/d...</td>\n",
       "      <td>file_a_7\\viz_3175.png</td>\n",
       "    </tr>\n",
       "  </tbody>\n",
       "</table>\n",
       "<p>3176 rows × 6 columns</p>\n",
       "</div>"
      ],
      "text/plain": [
       "                                                viz_url  \\\n",
       "0     https://public.tableau.com/static/images/_4/_4...   \n",
       "1     https://public.tableau.com/static/images/18/18...   \n",
       "2     https://public.tableau.com/static/images/Na/Na...   \n",
       "3     https://public.tableau.com/static/images/Vi/Vi...   \n",
       "4     https://public.tableau.com/static/images/To/To...   \n",
       "...                                                 ...   \n",
       "3171  https://public.tableau.com/static/images/GA/GA...   \n",
       "3172  https://public.tableau.com/static/images/Bo/Bo...   \n",
       "3173  https://public.tableau.com/static/images/Av/Av...   \n",
       "3174  https://public.tableau.com/static/images/IR/IR...   \n",
       "3175  https://public.tableau.com/static/images/Th/Th...   \n",
       "\n",
       "                                               png_path  \\\n",
       "0                            viz_png\\viz_0__4__4100.png   \n",
       "1     viz_png\\viz_1_18_180315_class-culture_dotplots...   \n",
       "2                    viz_png\\viz_2_Na_NanosNational.png   \n",
       "3                 viz_png\\viz_3_Vi_VisualVocabulary.png   \n",
       "4                viz_png\\viz_4_To_TopPlacestoRetire.png   \n",
       "...                                                 ...   \n",
       "3171      viz_png\\viz_3171_GA_GAES19_1_4_1KeyTrends.png   \n",
       "3172  viz_png\\viz_3172_Bo_BoeingCommercialMarketOutl...   \n",
       "3173  viz_png\\viz_3173_Av_AverageDomesticAirfareTime...   \n",
       "3174  viz_png\\viz_3174_IR_IRENAREsourceRenewableEner...   \n",
       "3175  viz_png\\viz_3175_Th_TheStorminMyBrainEndingthe...   \n",
       "\n",
       "                                               filename  \\\n",
       "0                                    viz_0__4__4100.png   \n",
       "1            viz_1_18_180315_class-culture_dotplots.png   \n",
       "2                            viz_2_Na_NanosNational.png   \n",
       "3                         viz_3_Vi_VisualVocabulary.png   \n",
       "4                        viz_4_To_TopPlacestoRetire.png   \n",
       "...                                                 ...   \n",
       "3171              viz_3171_GA_GAES19_1_4_1KeyTrends.png   \n",
       "3172  viz_3172_Bo_BoeingCommercialMarketOutlook2018-...   \n",
       "3173   viz_3173_Av_AverageDomesticAirfareTimeSeries.png   \n",
       "3174  viz_3174_IR_IRENAREsourceRenewableEnergyCharts...   \n",
       "3175  viz_3175_Th_TheStorminMyBrainEndingthestigmaof...   \n",
       "\n",
       "                                           folder_index  \\\n",
       "0                             file_1/viz_0__4__4100.png   \n",
       "1     file_1/viz_1_18_180315_class-culture_dotplots.png   \n",
       "2                     file_1/viz_2_Na_NanosNational.png   \n",
       "3                  file_1/viz_3_Vi_VisualVocabulary.png   \n",
       "4                 file_1/viz_4_To_TopPlacestoRetire.png   \n",
       "...                                                 ...   \n",
       "3171       file_7/viz_3171_GA_GAES19_1_4_1KeyTrends.png   \n",
       "3172  file_7/viz_3172_Bo_BoeingCommercialMarketOutlo...   \n",
       "3173  file_7/viz_3173_Av_AverageDomesticAirfareTimeS...   \n",
       "3174  file_7/viz_3174_IR_IRENAREsourceRenewableEnerg...   \n",
       "3175  file_7/viz_3175_Th_TheStorminMyBrainEndingthes...   \n",
       "\n",
       "                                             github_url         sanitized_path  \n",
       "0     https://raw.githubusercontent.com/tomjarvisn/d...     file_a_1\\viz_0.png  \n",
       "1     https://raw.githubusercontent.com/tomjarvisn/d...     file_a_1\\viz_1.png  \n",
       "2     https://raw.githubusercontent.com/tomjarvisn/d...     file_a_1\\viz_2.png  \n",
       "3     https://raw.githubusercontent.com/tomjarvisn/d...     file_a_1\\viz_3.png  \n",
       "4     https://raw.githubusercontent.com/tomjarvisn/d...     file_a_1\\viz_4.png  \n",
       "...                                                 ...                    ...  \n",
       "3171  https://raw.githubusercontent.com/tomjarvisn/d...  file_a_7\\viz_3171.png  \n",
       "3172  https://raw.githubusercontent.com/tomjarvisn/d...  file_a_7\\viz_3172.png  \n",
       "3173  https://raw.githubusercontent.com/tomjarvisn/d...  file_a_7\\viz_3173.png  \n",
       "3174  https://raw.githubusercontent.com/tomjarvisn/d...  file_a_7\\viz_3174.png  \n",
       "3175  https://raw.githubusercontent.com/tomjarvisn/d...  file_a_7\\viz_3175.png  \n",
       "\n",
       "[3176 rows x 6 columns]"
      ]
     },
     "execution_count": 14,
     "metadata": {},
     "output_type": "execute_result"
    }
   ],
   "source": [
    "df"
   ]
  },
  {
   "cell_type": "code",
   "execution_count": 16,
   "id": "f7f667dc",
   "metadata": {},
   "outputs": [
    {
     "name": "stdout",
     "output_type": "stream",
     "text": [
      "✅ Archivo demo 'tableau_viz_png_demo.csv' creado con 20 filas.\n"
     ]
    }
   ],
   "source": [
    "\n",
    "\n",
    "# Elegir las primeras 20 filas para el demo\n",
    "demo_df = df.head(20)\n",
    "\n",
    "# Guardar el nuevo CSV de demo\n",
    "demo_df.to_csv(\"tableau_viz_png_demo.csv\", index=False)\n",
    "\n",
    "print(\"✅ Archivo demo 'tableau_viz_png_demo.csv' creado con 20 filas.\")\n"
   ]
  },
  {
   "cell_type": "code",
   "execution_count": 20,
   "id": "21e6373f",
   "metadata": {},
   "outputs": [
    {
     "name": "stdout",
     "output_type": "stream",
     "text": [
      "✅ 3176 archivos convertidos a JPG\n",
      "📁 CSV actualizado guardado como 'tableau_viz_jpg.csv'\n"
     ]
    }
   ],
   "source": [
    "import os\n",
    "from PIL import Image\n",
    "import pandas as pd\n",
    "\n",
    "# Definir carpetas\n",
    "carpetas = [f\"file_a_{i}\" for i in range(1, 8)]\n",
    "archivos_convertidos = []\n",
    "\n",
    "for carpeta in carpetas:\n",
    "    for archivo in os.listdir(carpeta):\n",
    "        if archivo.lower().endswith(\".png\"):\n",
    "            ruta_png = os.path.join(carpeta, archivo)\n",
    "            ruta_jpg = ruta_png.replace(\".png\", \".jpg\")\n",
    "            \n",
    "            try:\n",
    "                img = Image.open(ruta_png)\n",
    "                if img.mode in (\"RGBA\", \"P\", \"LA\"):\n",
    "                    img = img.convert(\"RGB\")\n",
    "                \n",
    "                img.save(ruta_jpg, format=\"JPEG\", quality=80, optimize=True)\n",
    "                archivos_convertidos.append((ruta_png, ruta_jpg))\n",
    "                \n",
    "                # Podés comentar esta línea si querés conservar los PNG\n",
    "                os.remove(ruta_png)\n",
    "                \n",
    "            except Exception as e:\n",
    "                print(f\"❌ Error al convertir {ruta_png}: {e}\")\n",
    "\n",
    "print(f\"✅ {len(archivos_convertidos)} archivos convertidos a JPG\")\n",
    "\n",
    "# Actualizar CSV si tenés uno base\n",
    "csv_path = \"tableau_viz_png_sanitizado.csv\"\n",
    "df = pd.read_csv(csv_path, sep=\";\")\n",
    "\n",
    "# Reemplazar .png por .jpg en las rutas que quedaron en sanitized_path\n",
    "df[\"sanitized_path\"] = df[\"sanitized_path\"].str.replace(\".png\", \".jpg\", regex=False)\n",
    "df[\"github_url\"] = df[\"github_url\"].str.replace(\".png\", \".jpg\", regex=False)\n",
    "\n",
    "# Guardar CSV actualizado\n",
    "df.to_csv(\"tableau_viz_jpg.csv\", sep=\";\", index=False)\n",
    "print(\"📁 CSV actualizado guardado como 'tableau_viz_jpg.csv'\")\n"
   ]
  },
  {
   "cell_type": "code",
   "execution_count": null,
   "id": "5893c5bb",
   "metadata": {},
   "outputs": [],
   "source": []
  }
 ],
 "metadata": {
  "kernelspec": {
   "display_name": "base",
   "language": "python",
   "name": "python3"
  },
  "language_info": {
   "codemirror_mode": {
    "name": "ipython",
    "version": 3
   },
   "file_extension": ".py",
   "mimetype": "text/x-python",
   "name": "python",
   "nbconvert_exporter": "python",
   "pygments_lexer": "ipython3",
   "version": "3.10.13"
  }
 },
 "nbformat": 4,
 "nbformat_minor": 5
}
